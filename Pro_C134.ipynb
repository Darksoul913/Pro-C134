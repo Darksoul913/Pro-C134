{
  "nbformat": 4,
  "nbformat_minor": 0,
  "metadata": {
    "colab": {
      "name": "Pro-C134",
      "provenance": [],
      "collapsed_sections": [],
      "authorship_tag": "ABX9TyMlkj6xeL3eUELshmsuud6o",
      "include_colab_link": true
    },
    "kernelspec": {
      "name": "python3",
      "display_name": "Python 3"
    },
    "language_info": {
      "name": "python"
    }
  },
  "cells": [
    {
      "cell_type": "markdown",
      "metadata": {
        "id": "view-in-github",
        "colab_type": "text"
      },
      "source": [
        "<a href=\"https://colab.research.google.com/github/Darksoul913/Pro-C134/blob/main/Pro_C134.ipynb\" target=\"_parent\"><img src=\"https://colab.research.google.com/assets/colab-badge.svg\" alt=\"Open In Colab\"/></a>"
      ]
    },
    {
      "cell_type": "code",
      "execution_count": 2,
      "metadata": {
        "id": "YB2SOI8F384-"
      },
      "outputs": [],
      "source": [
        "from os import access\n",
        "import pandas as pd\n",
        "import matplotlib.pyplot as plt\n",
        "\n",
        "df = pd.read_csv(\"final.csv\")\n",
        "\n",
        "distance = df[\"Distance\"].to_list()\n",
        "gravity = df[\"Gravity\"].to_list()\n",
        "\n",
        "\n",
        "for index, star_data in enumerate(distance):\n",
        "  if float(star_data) > 100:\n",
        "    df = df.drop(labels=index, axis=0)\n",
        "  else:\n",
        "    if float(gravity[index]) < 150 or float(gravity[index]) > 350:\n",
        "      df = df.drop(labels=index, axis=0)\n",
        "\n",
        "del df[\"Row_Number\"]\n",
        "\n",
        "df.to_csv(\"main.csv\", index=False)\n",
        "\n",
        "# add index\n",
        "df = pd.read_csv(\"main.csv\")\n",
        "df.to_csv(\"main_v2.csv\")\n"
      ]
    }
  ]
}